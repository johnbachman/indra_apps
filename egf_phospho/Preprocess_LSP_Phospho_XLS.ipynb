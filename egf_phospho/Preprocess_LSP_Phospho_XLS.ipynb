{
 "cells": [
  {
   "cell_type": "code",
   "execution_count": 1,
   "metadata": {},
   "outputs": [],
   "source": [
    "import pandas as pd\n",
    "from indra.databases import hgnc_client\n",
    "from protmapper import ProtMapper\n",
    "from protmapper import uniprot_client\n",
    "from requests.exceptions import HTTPError\n",
    "import csv"
   ]
  },
  {
   "cell_type": "code",
   "execution_count": 2,
   "metadata": {},
   "outputs": [],
   "source": [
    "df = pd.read_excel('data/MCF10A EGF TC LargevMini Comp 10_16.xlsx', index_col=0)"
   ]
  },
  {
   "cell_type": "code",
   "execution_count": 3,
   "metadata": {},
   "outputs": [],
   "source": [
    "values_cols = ['default_126_sn_sum', 'default_127n_sn_sum', 'default_127c_sn_sum', 'default_128n_sn_sum',\n",
    "               'default_128c_sn_sum', 'default_129n_sn_sum', 'default_129c_sn_sum', 'default_130n_sn_sum',\n",
    "               'default_130c_sn_sum', 'default_131_sn_sum', 'default_131c_sn_sum',]\n",
    "site_cols = ['Protein Id', 'gene_symbol', 'Site Position', 'Motif']"
   ]
  },
  {
   "cell_type": "code",
   "execution_count": 4,
   "metadata": {},
   "outputs": [],
   "source": [
    "def normalize_gene_symbol(id_str, gene_name):\n",
    "    # First try to get the HGNC ID from the given gene symbol\n",
    "    hgnc_id = hgnc_client.get_current_hgnc_id(gene_name)\n",
    "    # If None, that means the given symbol is not a current or previous gene symbol;\n",
    "    # If a list, there are multiple current gene symbols for the gene symbol\n",
    "    if hgnc_id is None or isinstance(hgnc_id, list):\n",
    "        # Get the Uniprot ID from the ID str\n",
    "        id_str_up_id = id_str.split('|')[1].split('-')[0]\n",
    "        # Get the gene name from the Uniprot ID\n",
    "        up_gene_name = uniprot_client.get_gene_name(id_str_up_id)\n",
    "        # Get the HGNC ID from the Uniprot gene name\n",
    "        hgnc_id = hgnc_client.get_hgnc_id(up_gene_name)\n",
    "    # Get the canonical Uniprot ID given the HGNC ID\n",
    "    up_id = hgnc_client.get_uniprot_id(hgnc_id)\n",
    "    # If success, get the normalized gene symbol\n",
    "    if up_id:\n",
    "        norm_sym = hgnc_client.get_hgnc_name(hgnc_id)\n",
    "        return norm_sym\n",
    "    else:\n",
    "        return None"
   ]
  },
  {
   "cell_type": "code",
   "execution_count": 5,
   "metadata": {},
   "outputs": [],
   "source": [
    "def normalize_motif(motif): \n",
    "    norm_s = motif.replace('x', '')\n",
    "    offset = motif.find(norm_s)\n",
    "    if offset == 0:\n",
    "        pos = 7\n",
    "    else:\n",
    "        pos = 7 - offset\n",
    "    return (norm_s, pos)"
   ]
  },
  {
   "cell_type": "code",
   "execution_count": 6,
   "metadata": {},
   "outputs": [
    {
     "name": "stderr",
     "output_type": "stream",
     "text": [
      "INFO: [2019-09-24 14:05:38] protmapper.uniprot_client - Loading Swissprot sequences...\n",
      "INFO: [2019-09-24 14:05:41] protmapper.uniprot_client - Loading Uniprot isoform sequences...\n",
      "WARNING: [2019-09-24 14:05:43] protmapper.uniprot_client - Could not find protein with id P01891, P01892, P04439, P05534, P10314, P10316, P13746, P16188, P16189, P16190, P18462, P30443, P30447, P30450, P30453, P30455, P30456, P30457, P30459, P30512, Q09160\n",
      "WARNING: [2019-09-24 14:05:43] protmapper.uniprot_client - Could not find protein with id P42166, P42167\n",
      "WARNING: [2019-09-24 14:05:45] protmapper.uniprot_client - Could not find protein with id P0DI83, Q9BZG1\n",
      "WARNING: [2019-09-24 14:05:45] protmapper.uniprot_client - Could not find protein with id E9PAV3, Q13765\n",
      "WARNING: [2019-09-24 14:05:47] protmapper.uniprot_client - Could not find protein with id P0CAP2, Q6EEV4\n",
      "WARNING: [2019-09-24 14:05:48] protmapper.uniprot_client - Could not find protein with id P39880, Q13948\n",
      "WARNING: [2019-09-24 14:05:50] protmapper.uniprot_client - Could not find protein with id Q96PG8, Q9BXH1\n",
      "WARNING: [2019-09-24 14:05:50] protmapper.uniprot_client - Could not find protein with id P35544, P62861\n",
      "WARNING: [2019-09-24 14:05:52] protmapper.uniprot_client - Could not find protein with id Q8NFQ8, Q9H496\n",
      "WARNING: [2019-09-24 14:05:53] protmapper.uniprot_client - Could not find protein with id P01889, P03989, P10319, P18463, P18464, P18465, P30460, P30461, P30462, P30464, P30466, P30475, P30479, P30480, P30481, P30483, P30484, P30485, P30486, P30487, P30488, P30490, P30491, P30492, P30493, P30495, P30498, P30685, Q04826, Q29718, Q29836, Q29940, Q31610, Q31612, Q95365\n",
      "WARNING: [2019-09-24 14:05:53] protmapper.uniprot_client - Could not find protein with id P04222, P10321, P30499, P30501, P30504, P30505, P30508, P30510, Q07000, Q29865, Q29960, Q29963, Q95604, Q9TNN7\n",
      "WARNING: [2019-09-24 14:05:55] protmapper.uniprot_client - Could not find protein with id O96007, O96033\n",
      "WARNING: [2019-09-24 14:05:55] protmapper.uniprot_client - Could not find protein with id L0R8F8, Q9NQG6\n",
      "WARNING: [2019-09-24 14:05:56] protmapper.uniprot_client - Could not find protein with id P58400, Q9ULB1\n",
      "WARNING: [2019-09-24 14:05:56] protmapper.uniprot_client - Could not find protein with id B7ZAP0, Q5R372\n",
      "WARNING: [2019-09-24 14:05:57] protmapper.uniprot_client - Could not find protein with id O95467, P63092, P84996, Q5JWF2\n",
      "WARNING: [2019-09-24 14:05:57] protmapper.uniprot_client - Could not find protein with id P0CG12, P0CG13\n",
      "WARNING: [2019-09-24 14:05:57] protmapper.uniprot_client - Could not find protein with id P0DPB5, P0DPB6\n"
     ]
    }
   ],
   "source": [
    "ok = []\n",
    "ms_none = []\n",
    "ms_diff = []\n",
    "http_err = []\n",
    "pm = ProtMapper()\n",
    "cols = site_cols + values_cols\n",
    "for row in df[cols].itertuples():\n",
    "    site_id, id_str, gene, pos, motif = row[0:5]\n",
    "    values = row[5:]\n",
    "    # TODO: Currently skips peptides with multiple phosphorylations\n",
    "    if ';' in str(site_id):\n",
    "        continue\n",
    "    norm_sym = normalize_gene_symbol(id_str, gene)\n",
    "    norm_motif, norm_pos = normalize_motif(motif)\n",
    "    if norm_sym is None:\n",
    "        continue\n",
    "    try:\n",
    "        ms = pm.map_peptide_to_human_ref(norm_sym, 'hgnc', norm_motif, norm_pos)\n",
    "    except HTTPError as err:\n",
    "        http_err.append((site_id, id_str, gene, pos, motif))\n",
    "        continue\n",
    "    if ms.mapped_pos is None:\n",
    "        ms_none.append((site_id, id_str, gene, pos, motif))\n",
    "        continue\n",
    "    elif int(ms.mapped_pos) != int(pos):        \n",
    "        ms_diff.append((site_id, id_str, gene, pos, motif))\n",
    "        ok.append((site_id, id_str, gene, ms.mapped_pos, motif) + tuple(values))\n",
    "    else:\n",
    "        ok.append((site_id, id_str, gene, pos, motif) + tuple(values))"
   ]
  },
  {
   "cell_type": "code",
   "execution_count": 10,
   "metadata": {},
   "outputs": [],
   "source": [
    "header = ['idcol', 'symcol', 'sitescol', 'effectcol'] + values_cols\n",
    "csv_rows = [header]\n",
    "for site_row in ok:\n",
    "    site_id, id_str, gene, pos, motif = site_row[0:5]\n",
    "    values = list(site_row[5:])\n",
    "    norm_id_str = id_str.replace('|', '-')\n",
    "    csv_row = ['%s-%s-%s-%s' % (site_id, norm_id_str, gene, pos),\n",
    "           gene, '%s%d' % (motif[6], int(pos)), ''] + values          \n",
    "    csv_rows.append(csv_row)\n",
    "with open('phosphosites.tsv', 'wt') as f:\n",
    "    csvwriter = csv.writer(f, delimiter='\\t')\n",
    "    csvwriter.writerows(csv_rows)\n"
   ]
  },
  {
   "cell_type": "code",
   "execution_count": null,
   "metadata": {},
   "outputs": [],
   "source": []
  }
 ],
 "metadata": {
  "kernelspec": {
   "display_name": "Python 3",
   "language": "python",
   "name": "python3"
  },
  "language_info": {
   "codemirror_mode": {
    "name": "ipython",
    "version": 3
   },
   "file_extension": ".py",
   "mimetype": "text/x-python",
   "name": "python",
   "nbconvert_exporter": "python",
   "pygments_lexer": "ipython3",
   "version": "3.6.8"
  }
 },
 "nbformat": 4,
 "nbformat_minor": 2
}
