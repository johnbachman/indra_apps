{
 "cells": [
  {
   "cell_type": "code",
   "execution_count": 1,
   "metadata": {},
   "outputs": [],
   "source": [
    "import pandas as pd\n",
    "from indra.databases import hgnc_client\n",
    "from protmapper import ProtMapper\n",
    "from protmapper import uniprot_client\n",
    "from requests.exceptions import HTTPError\n",
    "import csv"
   ]
  },
  {
   "cell_type": "code",
   "execution_count": 2,
   "metadata": {},
   "outputs": [],
   "source": [
    "df = pd.read_excel('data/MCF10A EGF TC LargevMini Comp 10_16.xlsx', index_col=0)"
   ]
  },
  {
   "cell_type": "code",
   "execution_count": 3,
   "metadata": {},
   "outputs": [],
   "source": [
    "values_cols = ['default_126_sn_sum', 'default_127n_sn_sum', 'default_127c_sn_sum', 'default_128n_sn_sum',\n",
    "               'default_128c_sn_sum', 'default_129n_sn_sum', 'default_129c_sn_sum', 'default_130n_sn_sum',\n",
    "               'default_130c_sn_sum', 'default_131_sn_sum', 'default_131c_sn_sum',]\n",
    "site_cols = ['Protein Id', 'gene_symbol', 'Site Position', 'Motif']"
   ]
  },
  {
   "cell_type": "code",
   "execution_count": 4,
   "metadata": {},
   "outputs": [],
   "source": [
    "def normalize_gene_symbol(id_str, gene_name):\n",
    "    hgnc_id = hgnc_client.get_current_hgnc_id(gene_name)\n",
    "    if hgnc_id is None or isinstance(hgnc_id, list):\n",
    "        id_str_up_id = id_str.split('|')[1].split('-')[0]\n",
    "        up_gene_name = uniprot_client.get_gene_name(id_str_up_id)\n",
    "        hgnc_id = hgnc_client.get_hgnc_id(up_gene_name)\n",
    "    up_id = hgnc_client.get_uniprot_id(hgnc_id)\n",
    "    if up_id:\n",
    "        norm_sym = hgnc_client.get_hgnc_name(hgnc_id)\n",
    "        return norm_sym\n",
    "    else:\n",
    "        return None"
   ]
  },
  {
   "cell_type": "code",
   "execution_count": 5,
   "metadata": {},
   "outputs": [],
   "source": [
    "def normalize_motif(motif): \n",
    "    norm_s = motif.replace('x', '')\n",
    "    offset = motif.find(norm_s)\n",
    "    if offset == 0:\n",
    "        pos = 7\n",
    "    else:\n",
    "        pos = 7 - offset\n",
    "    return (norm_s, pos)"
   ]
  },
  {
   "cell_type": "code",
   "execution_count": 6,
   "metadata": {},
   "outputs": [
    {
     "name": "stderr",
     "output_type": "stream",
     "text": [
      "INFO: [2019-09-13 13:25:27] protmapper.uniprot_client - Loading Swissprot sequences...\n",
      "INFO: [2019-09-13 13:25:29] protmapper.uniprot_client - Loading Uniprot isoform sequences...\n",
      "WARNING: [2019-09-13 13:25:30] protmapper.uniprot_client - Could not find protein with id P01891, P01892, P04439, P05534, P10314, P10316, P13746, P16188, P16189, P16190, P18462, P30443, P30447, P30450, P30453, P30455, P30456, P30457, P30459, P30512, Q09160\n",
      "WARNING: [2019-09-13 13:25:30] protmapper.uniprot_client - Could not find protein with id P42166, P42167\n",
      "WARNING: [2019-09-13 13:25:32] protmapper.uniprot_client - Could not find protein with id P0DI83, Q9BZG1\n",
      "WARNING: [2019-09-13 13:25:33] protmapper.uniprot_client - Could not find protein with id E9PAV3, Q13765\n",
      "WARNING: [2019-09-13 13:25:35] protmapper.uniprot_client - Could not find protein with id P0CAP2, Q6EEV4\n",
      "WARNING: [2019-09-13 13:25:36] protmapper.uniprot_client - Could not find protein with id P39880, Q13948\n",
      "WARNING: [2019-09-13 13:25:39] protmapper.uniprot_client - Could not find protein with id Q96PG8, Q9BXH1\n",
      "WARNING: [2019-09-13 13:25:39] protmapper.uniprot_client - Could not find protein with id P35544, P62861\n",
      "WARNING: [2019-09-13 13:25:40] protmapper.uniprot_client - Could not find protein with id Q8NFQ8, Q9H496\n",
      "WARNING: [2019-09-13 13:25:41] protmapper.uniprot_client - Could not find protein with id P01889, P03989, P10319, P18463, P18464, P18465, P30460, P30461, P30462, P30464, P30466, P30475, P30479, P30480, P30481, P30483, P30484, P30485, P30486, P30487, P30488, P30490, P30491, P30492, P30493, P30495, P30498, P30685, Q04826, Q29718, Q29836, Q29940, Q31610, Q31612, Q95365\n",
      "WARNING: [2019-09-13 13:25:42] protmapper.uniprot_client - Could not find protein with id P04222, P10321, P30499, P30501, P30504, P30505, P30508, P30510, Q07000, Q29865, Q29960, Q29963, Q95604, Q9TNN7\n",
      "WARNING: [2019-09-13 13:25:43] protmapper.uniprot_client - Could not find protein with id O96007, O96033\n",
      "WARNING: [2019-09-13 13:25:44] protmapper.uniprot_client - Could not find protein with id L0R8F8, Q9NQG6\n",
      "WARNING: [2019-09-13 13:25:45] protmapper.uniprot_client - Could not find protein with id P58400, Q9ULB1\n",
      "WARNING: [2019-09-13 13:25:45] protmapper.uniprot_client - Could not find protein with id B7ZAP0, Q5R372\n",
      "WARNING: [2019-09-13 13:25:46] protmapper.uniprot_client - Could not find protein with id O95467, P63092, P84996, Q5JWF2\n",
      "WARNING: [2019-09-13 13:25:46] protmapper.uniprot_client - Could not find protein with id P0CG12, P0CG13\n",
      "WARNING: [2019-09-13 13:25:47] protmapper.uniprot_client - Could not find protein with id P0DPB5, P0DPB6\n"
     ]
    }
   ],
   "source": [
    "ok = []\n",
    "ms_none = []\n",
    "ms_diff = []\n",
    "http_err = []\n",
    "pm = ProtMapper()\n",
    "cols = site_cols + values_cols\n",
    "for row in df[cols].itertuples():\n",
    "    site_id, id_str, gene, pos, motif = row[0:5]\n",
    "    values = row[5:]\n",
    "    if ';' in str(site_id):\n",
    "        continue\n",
    "    norm_sym = normalize_gene_symbol(id_str, gene)\n",
    "    norm_motif, norm_pos = normalize_motif(motif)\n",
    "    if norm_sym is None:\n",
    "        continue\n",
    "    try:\n",
    "        ms = pm.map_peptide_to_human_ref(norm_sym, 'hgnc', norm_motif, norm_pos)\n",
    "    except HTTPError as err:\n",
    "        http_err.append((site_id, id_str, gene, pos, motif))\n",
    "        continue\n",
    "    if ms.mapped_pos is None:\n",
    "        ms_none.append((site_id, id_str, gene, pos, motif))\n",
    "        continue\n",
    "    elif int(ms.mapped_pos) != int(pos):        \n",
    "        ms_diff.append((site_id, id_str, gene, pos, motif))\n",
    "        ok.append((site_id, id_str, gene, ms.mapped_pos, motif) + tuple(values))\n",
    "    else:\n",
    "        ok.append((site_id, id_str, gene, pos, motif) + tuple(values))"
   ]
  },
  {
   "cell_type": "code",
   "execution_count": 14,
   "metadata": {},
   "outputs": [],
   "source": [
    "header = ['idcol', 'symcol', 'sitescol', 'effectcol'] + values_cols\n",
    "csv_rows = [header]\n",
    "for site_row in ok:\n",
    "    site_id, id_str, gene, pos, motif = site_row[0:5]\n",
    "    values = list(site_row[5:])\n",
    "    csv_row = ['%s|%s|%s|%s' % (site_id, id_str, gene, pos),\n",
    "           gene, '%s%d' % (motif[6], int(pos)), ''] + values          \n",
    "    csv_rows.append(csv_row)\n",
    "with open('phosphosites.tsv', 'wt') as f:\n",
    "    csvwriter = csv.writer(f, delimiter='\\t')\n",
    "    csvwriter.writerows(csv_rows)\n"
   ]
  },
  {
   "cell_type": "code",
   "execution_count": 8,
   "metadata": {},
   "outputs": [
    {
     "name": "stdout",
     "output_type": "stream",
     "text": [
      "> \u001b[0;32m<ipython-input-7-3a36b90ab305>\u001b[0m(7)\u001b[0;36m<module>\u001b[0;34m()\u001b[0m\n",
      "\u001b[0;32m      5 \u001b[0;31m    \u001b[0mvalues\u001b[0m \u001b[0;34m=\u001b[0m \u001b[0mrow\u001b[0m\u001b[0;34m[\u001b[0m\u001b[0;36m5\u001b[0m\u001b[0;34m:\u001b[0m\u001b[0;34m]\u001b[0m\u001b[0;34m\u001b[0m\u001b[0;34m\u001b[0m\u001b[0m\n",
      "\u001b[0m\u001b[0;32m      6 \u001b[0;31m    row = ['%s|%s|%s|%s' % (site_id, id_str, gene, pos),\n",
      "\u001b[0m\u001b[0;32m----> 7 \u001b[0;31m           gene, '%s%d' % (motif[6], int(pos)), ''] + values          \n",
      "\u001b[0m\u001b[0;32m      8 \u001b[0;31m    \u001b[0mrows\u001b[0m\u001b[0;34m.\u001b[0m\u001b[0mappend\u001b[0m\u001b[0;34m(\u001b[0m\u001b[0mrow\u001b[0m\u001b[0;34m)\u001b[0m\u001b[0;34m\u001b[0m\u001b[0;34m\u001b[0m\u001b[0m\n",
      "\u001b[0m\u001b[0;32m      9 \u001b[0;31m\u001b[0;32mwith\u001b[0m \u001b[0mopen\u001b[0m\u001b[0;34m(\u001b[0m\u001b[0;34m'phosphosites.tsv'\u001b[0m\u001b[0;34m,\u001b[0m \u001b[0;34m'wt'\u001b[0m\u001b[0;34m)\u001b[0m \u001b[0;32mas\u001b[0m \u001b[0mf\u001b[0m\u001b[0;34m:\u001b[0m\u001b[0;34m\u001b[0m\u001b[0;34m\u001b[0m\u001b[0m\n",
      "\u001b[0m\n",
      "ipdb> \n",
      "ipdb> site_id\n",
      "'92211;92213;92212'\n",
      "ipdb> id_str\n",
      "'sp|O15066|KIF3B_HUMAN'\n",
      "ipdb> gene\n",
      "'KIF3B'\n",
      "ipdb> pos\n",
      "'728;729;738'\n",
      "ipdb> exit\n"
     ]
    }
   ],
   "source": [
    "%debug"
   ]
  },
  {
   "cell_type": "code",
   "execution_count": null,
   "metadata": {},
   "outputs": [],
   "source": []
  }
 ],
 "metadata": {
  "kernelspec": {
   "display_name": "Python 3",
   "language": "python",
   "name": "python3"
  },
  "language_info": {
   "codemirror_mode": {
    "name": "ipython",
    "version": 3
   },
   "file_extension": ".py",
   "mimetype": "text/x-python",
   "name": "python",
   "nbconvert_exporter": "python",
   "pygments_lexer": "ipython3",
   "version": "3.6.8"
  }
 },
 "nbformat": 4,
 "nbformat_minor": 2
}
